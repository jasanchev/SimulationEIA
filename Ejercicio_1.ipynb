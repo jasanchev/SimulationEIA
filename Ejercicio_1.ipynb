{
 "cells": [
  {
   "cell_type": "markdown",
   "metadata": {},
   "source": [
    "## <center> Ejercicio 1 </center>\n",
    "Marty Ford es analista de operaciones de Piedmont Commuter Airlines (PCA). Recientemente, le pidieron a Marty que hiciera una recomendación sobre cuántas reservas debería hacer PCA para el vuelo 343, un vuelo desde un pequeño aeropuerto regional en Nueva Inglaterra a un importante centro de operaciones en el aeropuerto Logan de Boston. El avión utilizado en el vuelo 343 es un pequeño turbohélice bimotor con 19 asientos disponibles para pasajeros. PCA vende boletos no reembolsables para el vuelo 343 a $150 por asiento.\n",
    "\n",
    "Las estadísticas del sector muestran que por cada tiquete vendido para un vuelo interurbano, existe una probabilidad de 0.10 de que el titular del tiquete no esté en el vuelo. Por tanto, si PCA vende 19 billetes para este vuelo, hay una probabilidad bastante buena de que uno o más asientos del avión estén vacíos. Por supuesto, los asientos vacíos representan una pérdida de ingresos potenciales para la empresa. Por otro lado, si PCA realiza una sobreventa de billetes para este vuelo y se presentan más de 19 pasajeros, algunos de ellos tendrán que ser trasladados a un vuelo posterior.\n",
    "\n",
    "Para compensar la incomodidad de ser rechazados, PCA les da a estos pasajeros vales para una comida gratis, un vuelo gratis en una fecha posterior y, a veces, también les paga para que pasen la noche en un hotel cerca del aeropuerto. PCA paga un promedio de $325 (incluido el costo de la pérdida de prestigio) por cada pasajero que se queda sin pasaje. Marty quiere determinar si PCA puede aumentar las ganancias mediante la sobreventa de este vuelo y, de ser así, cuántas reservas se deben aceptar para producir el máximo beneficio promedio. Para ayudar en el análisis, Marty analizó los datos de investigación de mercado para este vuelo que revelan la siguiente distribución de probabilidad de la demanda para este vuelo:\n",
    "\n",
    "| Demanda | 14  | 15  | 16  | 17  | 18  | 19  | 20  | 21  | 22  | 23  | 24  | 25  |\n",
    "|:--------------:|:---:|:---:|:---:|:---:|:---:|:---:|:---:|:---:|:---:|:---:|:---:|:---:|\n",
    "| Probabilidad   | 0.03 | 0.05 | 0.07 | 0.09 | 0.11 | 0.15 | 0.18 | 0.14 | 0.08 | 0.05 | 0.03 | 0.02 |\n"
   ]
  },
  {
   "cell_type": "markdown",
   "metadata": {},
   "source": [
    "### 1. Librerias necesarias"
   ]
  },
  {
   "cell_type": "code",
   "execution_count": null,
   "metadata": {},
   "outputs": [],
   "source": []
  },
  {
   "cell_type": "markdown",
   "metadata": {},
   "source": [
    "### 2. Entradas conocidas"
   ]
  },
  {
   "cell_type": "code",
   "execution_count": null,
   "metadata": {},
   "outputs": [],
   "source": []
  },
  {
   "cell_type": "markdown",
   "metadata": {},
   "source": [
    "### 3. Variables de decisión"
   ]
  },
  {
   "cell_type": "code",
   "execution_count": null,
   "metadata": {},
   "outputs": [],
   "source": []
  },
  {
   "cell_type": "markdown",
   "metadata": {},
   "source": [
    "### 4. Entradas inciertas"
   ]
  },
  {
   "cell_type": "code",
   "execution_count": null,
   "metadata": {},
   "outputs": [],
   "source": []
  },
  {
   "cell_type": "markdown",
   "metadata": {},
   "source": [
    "### 5. Cálculos intermedios"
   ]
  },
  {
   "cell_type": "code",
   "execution_count": null,
   "metadata": {},
   "outputs": [],
   "source": []
  },
  {
   "cell_type": "markdown",
   "metadata": {},
   "source": [
    "### 6. Salidas"
   ]
  },
  {
   "cell_type": "code",
   "execution_count": null,
   "metadata": {},
   "outputs": [],
   "source": []
  }
 ],
 "metadata": {
  "kernelspec": {
   "display_name": "montecarlo-book",
   "language": "python",
   "name": "python3"
  },
  "language_info": {
   "codemirror_mode": {
    "name": "ipython",
    "version": 3
   },
   "file_extension": ".py",
   "mimetype": "text/x-python",
   "name": "python",
   "nbconvert_exporter": "python",
   "pygments_lexer": "ipython3",
   "version": "3.10.15"
  }
 },
 "nbformat": 4,
 "nbformat_minor": 2
}
