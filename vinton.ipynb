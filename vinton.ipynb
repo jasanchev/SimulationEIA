{
 "cells": [
  {
   "cell_type": "markdown",
   "metadata": {},
   "source": [
    "## <center> Modelo de Reclamaciones de Seguros </center>\n",
    "Vinton Auto Insurance está tratando de decidir cuánto dinero debe mantener en activos líquidos para cubrir las reclamaciones de seguros. En el pasado, la empresa guardaba parte de las primas que recibía en cuentas corrientes que devengaban intereses y el resto lo invertía en activos que, aunque no son tan líquidos, suelen generar un mayor rendimiento. La compañía quiere estudiar los flujos de efectivo para determinar cuánto dinero debe mantener en activos líquidos para pagar las reclamaciones. Tras revisar los datos históricos, la empresa determinó que la factura promedio de reparación por siniestro se distribuye normalmente con una media de $1,700 y una desviación estándar de $400. También determinó que la cantidad de reclamaciones de reparación presentadas cada semana es una variable aleatoria que sigue la distribución de probabilidad que se muestra en la siguiente tabla:\n",
    "\n",
    "$$\n",
    "\\begin{array}{c|ccccccccc}\n",
    "\\text{Reclamaciones} & 1 & 2 & 3 & 4 & 5 & 6 & 7 & 8 & 9 \\\\\n",
    "\\hline\n",
    "\\text{Probabilidad} & 0.05 & 0.06 & 0.10 & 0.17 & 0.28 & 0.14 & 0.08 & 0.07 & 0.05\n",
    "\\end{array}\n",
    "$$\n",
    "\n",
    "Además de las reclamaciones por reparaciones, la empresa también recibe reclamaciones por autos que han quedado en \"pérdida total\" y no se pueden reparar. Existe una probabilidad del 20 % de recibir este tipo de reclamación en cualquier semana. Estas reclamaciones por autos en  \"pérdida total\" suelen costar entre 2,000 y 35,000 dólares, siendo 13,000 dólares el coste más habitual."
   ]
  },
  {
   "cell_type": "markdown",
   "metadata": {},
   "source": [
    "### 0. Análisis Número de Reclamos"
   ]
  },
  {
   "cell_type": "code",
   "execution_count": 120,
   "metadata": {},
   "outputs": [
    {
     "data": {
      "text/plain": [
       "Power_divergenceResult(statistic=np.float64(8.608359107961459), pvalue=np.float64(0.28200994095474113))"
      ]
     },
     "execution_count": 120,
     "metadata": {},
     "output_type": "execute_result"
    }
   ],
   "source": [
    "import numpy as np\n",
    "import scipy.stats as stats\n",
    "import pandas as pd\n",
    "import matplotlib.pyplot as plt\n",
    "import seaborn as sns\n",
    "\n",
    "# Verificar si el número de reclamos por semana son Poisson\n",
    "\n",
    "# Datos observados\n",
    "reclamos = np.array([1, 2, 3, 4, 5, 6, 7, 8, 9])\n",
    "f_relativa = np.array([0.05, 0.06, 0.10, 0.17, 0.28, 0.14, 0.08, 0.07, 0.05])\n",
    "\n",
    "# Calcular el parámetro lambda (media esperada)\n",
    "lambda_estimada =np.sum(reclamos * f_relativa)\n",
    "\n",
    "# Calcular la distribución teórica de Poisson con lambda estimada\n",
    "poisson_teorica = stats.poisson.pmf(reclamos, lambda_estimada)\n",
    "\n",
    "# Suposicion del tamaño de la muestra\n",
    "N_100 = 100\n",
    "f_observada = f_relativa * N_100\n",
    "f_esperada = poisson_teorica * N_100\n",
    "# print(f'observada: {f_observada}\\nesperada: {f_esperada}')\n",
    "\n",
    "# Agrupación de clases\n",
    "f_obs_nueva = [f_observada[0] + f_observada[1],\n",
    "               f_observada[2], f_observada[3],\n",
    "               f_observada[4], f_observada[5], f_observada[6],\n",
    "               f_observada[7] + f_observada[8]]\n",
    "\n",
    "f_esp_nueva = [f_esperada[0] + f_esperada[1],\n",
    "               f_esperada[2], f_esperada[3],\n",
    "               f_esperada[4], f_esperada[5], f_esperada[6],\n",
    "               f_esperada[7] + f_esperada[8]]\n",
    "\n",
    "# Realizar la prueba chi-cuadrado\n",
    "stats.chisquare(f_obs_nueva, f_esp_nueva,ddof=-1,sum_check=False)"
   ]
  },
  {
   "cell_type": "markdown",
   "metadata": {},
   "source": [
    "### 1. Entradas Conocidas"
   ]
  },
  {
   "cell_type": "code",
   "execution_count": 103,
   "metadata": {},
   "outputs": [],
   "source": [
    "# Media de la distribución de Poisson\n",
    "lambda_frecuencia  = lambda_estimada\n",
    "\n",
    "# Parámetros de la distribución normal reparaciones\n",
    "mu_rep, sigma_rep = 1700, 400\n",
    "\n",
    "# Parámetros distribució triangular pérdida total\n",
    "min_pt, mod_pt, max_pt = 2000, 13000, 35000\n",
    "\n",
    "# Parámetro distribución Bernoulli pérdida total\n",
    "prob = 0.20\n",
    "\n",
    "# Número de ensayos de Montecarlo\n",
    "n_sim = 1000\n"
   ]
  },
  {
   "cell_type": "markdown",
   "metadata": {},
   "source": [
    "### 2. Variables de Decisión"
   ]
  },
  {
   "cell_type": "code",
   "execution_count": null,
   "metadata": {},
   "outputs": [],
   "source": [
    "activos_liquidos = 20000"
   ]
  },
  {
   "cell_type": "markdown",
   "metadata": {},
   "source": [
    "### 3. Entradas Inciertas"
   ]
  },
  {
   "cell_type": "code",
   "execution_count": null,
   "metadata": {},
   "outputs": [],
   "source": [
    "# Generar número de reclamaciones\n",
    "def r_reparacion(u):\n",
    "    return stats.poisson.rvs(u)\n",
    "\n",
    "# Pago total reparaciones\n",
    "def pago_reparaciones(localizacion, escala, frecuencia):\n",
    "    pagos = stats.norm.rvs(loc=localizacion, scale=escala, size=frecuencia)\n",
    "    return pagos\n",
    "\n",
    "# Pago pérdida total\n",
    "def p_perdida_total(minimo, moda, maximo):\n",
    "    moda_rel = (moda-minimo)/(maximo-minimo)\n",
    "    localizacion = minimo\n",
    "    escala = maximo - minimo\n",
    "    return stats.triang.rvs(moda_rel,localizacion,escala)\n",
    "\n",
    "# Verificar si en la semana hubo pérdid total\n",
    "def h_perdida_total(p_exito):\n",
    "    return stats.bernoulli.rvs(p_exito,loc=0)"
   ]
  },
  {
   "cell_type": "markdown",
   "metadata": {},
   "source": [
    "### 4. Calculos Intermedios"
   ]
  },
  {
   "cell_type": "code",
   "execution_count": 116,
   "metadata": {},
   "outputs": [],
   "source": [
    "def simular_perdidas(ensayos):\n",
    "    pagos_totales = []\n",
    "    for _ in range(ensayos):\n",
    "        frec_simulada = r_reparacion(lambda_frecuencia)\n",
    "        severidad_sim = pago_reparaciones(mu_rep, sigma_rep, frec_simulada)\n",
    "        severidad_perdida_total_sim = h_perdida_total(prob) * p_perdida_total(min_pt,mod_pt,max_pt)\n",
    "        pagos_totales.append(np.sum(severidad_sim) + severidad_perdida_total_sim)\n",
    "    return pagos_totales"
   ]
  },
  {
   "cell_type": "markdown",
   "metadata": {},
   "source": [
    "### 5. Salida"
   ]
  },
  {
   "cell_type": "code",
   "execution_count": 129,
   "metadata": {},
   "outputs": [
    {
     "name": "stdout",
     "output_type": "stream",
     "text": [
      "Pago promedio semanal = 11346.2931\n",
      "Máximo pago semanal = 44561.7280\n",
      "Mínimo pago semanal = 0.0000\n",
      "P(Pago Total > 20000) = 0.13\n"
     ]
    }
   ],
   "source": [
    "pago_total_semanal = simular_perdidas(n_sim)\n",
    "condicion= (np.array(pago_total_semanal) > 20000)\n",
    "prob1=np.sum(condicion)/len(pago_total_semanal)\n",
    "print(f'Pago promedio semanal = {np.mean(pago_total_semanal):.4f}')\n",
    "print(f'Máximo pago semanal = {np.max(pago_total_semanal):.4f}')\n",
    "print(f'Mínimo pago semanal = {np.min(pago_total_semanal):.4f}')\n",
    "print(f\"P(Pago Total > 20000) = {prob1:.2f}\")"
   ]
  },
  {
   "cell_type": "markdown",
   "metadata": {},
   "source": [
    "### 6. Resume"
   ]
  },
  {
   "cell_type": "code",
   "execution_count": 130,
   "metadata": {},
   "outputs": [
    {
     "data": {
      "text/plain": [
       "<seaborn.axisgrid.FacetGrid at 0x2a7acee86a0>"
      ]
     },
     "execution_count": 130,
     "metadata": {},
     "output_type": "execute_result"
    },
    {
     "data": {
      "image/png": "[encoded data removed]",
      "text/plain": [
       "<Figure size 500x500 with 1 Axes>"
      ]
     },
     "metadata": {},
     "output_type": "display_data"
    }
   ],
   "source": [
    "sns.displot(pago_total_semanal)"
   ]
  },
  {
   "cell_type": "code",
   "execution_count": 6,
   "metadata": {},
   "outputs": [
    {
     "data": {
      "text/plain": [
       "Power_divergenceResult(statistic=np.float64(8.762060322896357), pvalue=np.float64(0.270193610560183))"
      ]
     },
     "execution_count": 6,
     "metadata": {},
     "output_type": "execute_result"
    }
   ],
   "source": [
    "import numpy as np\n",
    "from scipy.stats import chisquare\n",
    "chisquare(\n",
    "    f_obs=[11, 10, 17, 28, 14, 8, 12],\n",
    "    f_exp=[12.806, 14.26241762, 17.68539784, 17.54391466,\n",
    "    14.50296945, 10.27638978, 9.883],\n",
    "    ddof=-1,\n",
    "    axis=0,\n",
    "    sum_check=False\n",
    "    )"
   ]
  },
  {
   "cell_type": "code",
   "execution_count": 2,
   "metadata": {},
   "outputs": [
    {
     "name": "stdout",
     "output_type": "stream",
     "text": [
      "1.15.2\n"
     ]
    }
   ],
   "source": [
    "import scipy\n",
    "print(scipy.__version__)"
   ]
  }
 ],
 "metadata": {
  "kernelspec": {
   "display_name": "montecarlo-book",
   "language": "python",
   "name": "python3"
  },
  "language_info": {
   "codemirror_mode": {
    "name": "ipython",
    "version": 3
   },
   "file_extension": ".py",
   "mimetype": "text/x-python",
   "name": "python",
   "nbconvert_exporter": "python",
   "pygments_lexer": "ipython3",
   "version": "3.10.15"
  }
 },
 "nbformat": 4,
 "nbformat_minor": 2
}
